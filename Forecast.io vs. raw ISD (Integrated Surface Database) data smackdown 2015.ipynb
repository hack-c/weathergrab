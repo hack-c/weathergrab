{
 "metadata": {
  "name": "",
  "signature": "sha256:0453faf2e11442fe80319edcfb076c34f9a0990c8f794114a7b8634d3436cb0d"
 },
 "nbformat": 3,
 "nbformat_minor": 0,
 "worksheets": [
  {
   "cells": [
    {
     "cell_type": "code",
     "collapsed": false,
     "input": [
      "import forecastio\n",
      "import numpy as np\n",
      "import pandas as pd"
     ],
     "language": "python",
     "metadata": {},
     "outputs": [],
     "prompt_number": 2
    },
    {
     "cell_type": "markdown",
     "metadata": {},
     "source": [
      "Integrating Weather Data into PE Analytics\n",
      "==========================================\n",
      "Many of the use cases for the PE Analytics project entail making inferences about variables like equipment lifetime and job execution time. and reducible idling time. "
     ]
    },
    {
     "cell_type": "code",
     "collapsed": false,
     "input": [
      "stations = pd.read_csv(\"data/stations.csv\", index_col=\"WBAN\")\n",
      "stations.columns = map(str.lower, stations.columns)  # lowercase column names\n",
      "stations.index.name = stations.index.name.lower()    # lowercase \"WBAN\"\n"
     ],
     "language": "python",
     "metadata": {},
     "outputs": [],
     "prompt_number": 13
    },
    {
     "cell_type": "code",
     "collapsed": false,
     "input": [],
     "language": "python",
     "metadata": {},
     "outputs": [
      {
       "metadata": {},
       "output_type": "pyout",
       "prompt_number": 17,
       "text": [
        "'wban'"
       ]
      }
     ],
     "prompt_number": 17
    },
    {
     "cell_type": "code",
     "collapsed": false,
     "input": [],
     "language": "python",
     "metadata": {},
     "outputs": []
    }
   ],
   "metadata": {}
  }
 ]
}