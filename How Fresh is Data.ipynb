{
 "metadata": {
  "name": "",
  "signature": "sha256:19f66acc44bbe2cb0d92304ac11199638707571dfc32e314e62654fa96f3d267"
 },
 "nbformat": 3,
 "nbformat_minor": 0,
 "worksheets": [
  {
   "cells": [
    {
     "cell_type": "code",
     "collapsed": false,
     "input": [
      "import numpy as np\n",
      "import pandas as pd\n",
      "import seaborn as sns\n",
      "%pylab inline\n",
      "\n",
      "sns.set_context(\"notebook\")"
     ],
     "language": "python",
     "metadata": {},
     "outputs": [
      {
       "output_type": "stream",
       "stream": "stdout",
       "text": [
        "Populating the interactive namespace from numpy and matplotlib\n"
       ]
      }
     ],
     "prompt_number": 23
    },
    {
     "cell_type": "code",
     "collapsed": false,
     "input": [
      "df = pd.read_csv(\"lastreads.csv\")\n",
      "df.head()"
     ],
     "language": "python",
     "metadata": {},
     "outputs": [
      {
       "html": [
        "<div style=\"max-height:1000px;max-width:1500px;overflow:auto;\">\n",
        "<table border=\"1\" class=\"dataframe\">\n",
        "  <thead>\n",
        "    <tr style=\"text-align: right;\">\n",
        "      <th></th>\n",
        "      <th>usafid</th>\n",
        "      <th>wban</th>\n",
        "      <th>y</th>\n",
        "      <th>m</th>\n",
        "      <th>d</th>\n",
        "      <th>h</th>\n",
        "      <th>min</th>\n",
        "      <th>lat</th>\n",
        "      <th>lng</th>\n",
        "    </tr>\n",
        "  </thead>\n",
        "  <tbody>\n",
        "    <tr>\n",
        "      <th>0</th>\n",
        "      <td> 423630</td>\n",
        "      <td> 99999</td>\n",
        "      <td> 2015</td>\n",
        "      <td> 4</td>\n",
        "      <td>  9</td>\n",
        "      <td> 18</td>\n",
        "      <td>  0</td>\n",
        "      <td> 28.200</td>\n",
        "      <td> -89.200</td>\n",
        "    </tr>\n",
        "    <tr>\n",
        "      <th>1</th>\n",
        "      <td> 619760</td>\n",
        "      <td> 99999</td>\n",
        "      <td> 2015</td>\n",
        "      <td> 4</td>\n",
        "      <td> 10</td>\n",
        "      <td>  0</td>\n",
        "      <td>  0</td>\n",
        "      <td>-15.883</td>\n",
        "      <td>  54.517</td>\n",
        "    </tr>\n",
        "    <tr>\n",
        "      <th>2</th>\n",
        "      <td> 619970</td>\n",
        "      <td> 99999</td>\n",
        "      <td> 2015</td>\n",
        "      <td> 4</td>\n",
        "      <td> 10</td>\n",
        "      <td>  0</td>\n",
        "      <td>  0</td>\n",
        "      <td>-46.433</td>\n",
        "      <td>  51.850</td>\n",
        "    </tr>\n",
        "    <tr>\n",
        "      <th>3</th>\n",
        "      <td> 621370</td>\n",
        "      <td> 99999</td>\n",
        "      <td> 2015</td>\n",
        "      <td> 4</td>\n",
        "      <td>  8</td>\n",
        "      <td> 21</td>\n",
        "      <td>  0</td>\n",
        "      <td> 57.000</td>\n",
        "      <td>   1.800</td>\n",
        "    </tr>\n",
        "    <tr>\n",
        "      <th>4</th>\n",
        "      <td> 690150</td>\n",
        "      <td> 93121</td>\n",
        "      <td> 2015</td>\n",
        "      <td> 4</td>\n",
        "      <td> 10</td>\n",
        "      <td>  5</td>\n",
        "      <td> 56</td>\n",
        "      <td> 34.300</td>\n",
        "      <td>-116.166</td>\n",
        "    </tr>\n",
        "  </tbody>\n",
        "</table>\n",
        "</div>"
       ],
       "metadata": {},
       "output_type": "pyout",
       "prompt_number": 32,
       "text": [
        "   usafid   wban     y  m   d   h  min     lat      lng\n",
        "0  423630  99999  2015  4   9  18    0  28.200  -89.200\n",
        "1  619760  99999  2015  4  10   0    0 -15.883   54.517\n",
        "2  619970  99999  2015  4  10   0    0 -46.433   51.850\n",
        "3  621370  99999  2015  4   8  21    0  57.000    1.800\n",
        "4  690150  93121  2015  4  10   5   56  34.300 -116.166"
       ]
      }
     ],
     "prompt_number": 32
    },
    {
     "cell_type": "code",
     "collapsed": false,
     "input": [
      "df[\"timestamp\"] = df.apply(lambda s: pd.datetime(*map(int, [s[\"y\"], s[\"m\"], s[\"d\"]])), axis=1)"
     ],
     "language": "python",
     "metadata": {},
     "outputs": [],
     "prompt_number": 47
    },
    {
     "cell_type": "code",
     "collapsed": false,
     "input": [
      "df[\"days_old\"] = df.timestamp.apply(lambda dt: (pd.datetime(2015, 4, 10) - dt).days)"
     ],
     "language": "python",
     "metadata": {},
     "outputs": [],
     "prompt_number": 51
    },
    {
     "cell_type": "code",
     "collapsed": false,
     "input": [
      "vcs = df.days_old.value_counts().sort_index()\n",
      "\n",
      "ax = vcs.plot(kind=\"bar\", figsize=(15, 10), title=\"# Days Since Station Data Last Updated for all US & CAN ISD Stations\")"
     ],
     "language": "python",
     "metadata": {},
     "outputs": [
      {
       "metadata": {},
       "output_type": "display_data",
       "png": "[encoded data removed]",
       "text": [
        "<matplotlib.figure.Figure at 0x12bfae250>"
       ]
      }
     ],
     "prompt_number": 64
    },
    {
     "cell_type": "code",
     "collapsed": false,
     "input": [],
     "language": "python",
     "metadata": {},
     "outputs": []
    }
   ],
   "metadata": {}
  }
 ]
}